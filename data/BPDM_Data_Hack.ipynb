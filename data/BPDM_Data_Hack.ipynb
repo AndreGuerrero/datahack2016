{
 "cells": [
  {
   "cell_type": "code",
   "execution_count": 1,
   "metadata": {
    "collapsed": true
   },
   "outputs": [],
   "source": [
    "import graphlab"
   ]
  },
  {
   "cell_type": "code",
   "execution_count": 9,
   "metadata": {
    "collapsed": false
   },
   "outputs": [
    {
     "data": {
      "text/html": [
       "<pre>Finished parsing file /Users/andguer/Documents/OneDrive/BPDM2016/datahack2016/data/train_2011_12_DATA.csv</pre>"
      ],
      "text/plain": [
       "Finished parsing file /Users/andguer/Documents/OneDrive/BPDM2016/datahack2016/data/train_2011_12_DATA.csv"
      ]
     },
     "metadata": {},
     "output_type": "display_data"
    },
    {
     "data": {
      "text/html": [
       "<pre>Parsing completed. Parsed 100 lines in 0.120383 secs.</pre>"
      ],
      "text/plain": [
       "Parsing completed. Parsed 100 lines in 0.120383 secs."
      ]
     },
     "metadata": {},
     "output_type": "display_data"
    },
    {
     "name": "stdout",
     "output_type": "stream",
     "text": [
      "------------------------------------------------------\n",
      "Inferred types from first 100 line(s) of file as \n",
      "column_type_hints=[int,float,float,float,float,float,float,float,float,float,float,float,float,float,float,float,float,float,float,float,float,float,float,float,float,float,float,float,float,float,float,float,float,float,float,float,float,float,float,float,float,float,float,float,float,float,float]\n",
      "If parsing fails due to incorrect types, you can correct\n",
      "the inferred type list above and pass it to read_csv in\n",
      "the column_type_hints argument\n",
      "------------------------------------------------------\n"
     ]
    },
    {
     "data": {
      "text/html": [
       "<pre>Finished parsing file /Users/andguer/Documents/OneDrive/BPDM2016/datahack2016/data/train_2011_12_DATA.csv</pre>"
      ],
      "text/plain": [
       "Finished parsing file /Users/andguer/Documents/OneDrive/BPDM2016/datahack2016/data/train_2011_12_DATA.csv"
      ]
     },
     "metadata": {},
     "output_type": "display_data"
    },
    {
     "data": {
      "text/html": [
       "<pre>Parsing completed. Parsed 9736 lines in 0.114393 secs.</pre>"
      ],
      "text/plain": [
       "Parsing completed. Parsed 9736 lines in 0.114393 secs."
      ]
     },
     "metadata": {},
     "output_type": "display_data"
    },
    {
     "data": {
      "text/html": [
       "<pre>Finished parsing file /Users/andguer/Documents/OneDrive/BPDM2016/datahack2016/data/test_2013_14_DATA.csv</pre>"
      ],
      "text/plain": [
       "Finished parsing file /Users/andguer/Documents/OneDrive/BPDM2016/datahack2016/data/test_2013_14_DATA.csv"
      ]
     },
     "metadata": {},
     "output_type": "display_data"
    },
    {
     "data": {
      "text/html": [
       "<pre>Parsing completed. Parsed 100 lines in 0.087935 secs.</pre>"
      ],
      "text/plain": [
       "Parsing completed. Parsed 100 lines in 0.087935 secs."
      ]
     },
     "metadata": {},
     "output_type": "display_data"
    },
    {
     "name": "stdout",
     "output_type": "stream",
     "text": [
      "------------------------------------------------------\n",
      "Inferred types from first 100 line(s) of file as \n",
      "column_type_hints=[int,float,float,float,float,float,float,float,float,float,float,float,float,float,float,float,float,float,float,float,float,float,float,float,float,float,float,float,float,float,float,float,float,float,float,float,float,float,float,float,float,float,float,float,float,float,float]\n",
      "If parsing fails due to incorrect types, you can correct\n",
      "the inferred type list above and pass it to read_csv in\n",
      "the column_type_hints argument\n",
      "------------------------------------------------------\n"
     ]
    },
    {
     "data": {
      "text/html": [
       "<pre>Finished parsing file /Users/andguer/Documents/OneDrive/BPDM2016/datahack2016/data/test_2013_14_DATA.csv</pre>"
      ],
      "text/plain": [
       "Finished parsing file /Users/andguer/Documents/OneDrive/BPDM2016/datahack2016/data/test_2013_14_DATA.csv"
      ]
     },
     "metadata": {},
     "output_type": "display_data"
    },
    {
     "data": {
      "text/html": [
       "<pre>Parsing completed. Parsed 10164 lines in 0.107358 secs.</pre>"
      ],
      "text/plain": [
       "Parsing completed. Parsed 10164 lines in 0.107358 secs."
      ]
     },
     "metadata": {},
     "output_type": "display_data"
    }
   ],
   "source": [
    "train = graphlab.SFrame('train_2011_12_DATA.csv')\n",
    "test = graphlab.SFrame('test_2013_14_DATA.csv')"
   ]
  },
  {
   "cell_type": "code",
   "execution_count": 10,
   "metadata": {
    "collapsed": true
   },
   "outputs": [],
   "source": [
    "graphlab.canvas.set_target('ipynb')"
   ]
  },
  {
   "cell_type": "code",
   "execution_count": 11,
   "metadata": {
    "collapsed": false
   },
   "outputs": [
    {
     "data": {
      "text/plain": [
       "<bound method SFrame.show of Columns:\n",
       "\tX1\tint\n",
       "\tRIDSTATR\tfloat\n",
       "\tRIAGENDR\tfloat\n",
       "\tRIDAGEYR\tfloat\n",
       "\tRIDAGEMN\tfloat\n",
       "\tRIDRETH1\tfloat\n",
       "\tRIDRETH3\tfloat\n",
       "\tRIDEXMON\tfloat\n",
       "\tRIDEXAGM\tfloat\n",
       "\tDMQMILIZ\tfloat\n",
       "\tDMQADFC\tfloat\n",
       "\tDMDBORN4\tfloat\n",
       "\tDMDCITZN\tfloat\n",
       "\tDMDYRSUS\tfloat\n",
       "\tDMDEDUC3\tfloat\n",
       "\tDMDEDUC2\tfloat\n",
       "\tDMDMARTL\tfloat\n",
       "\tRIDEXPRG\tfloat\n",
       "\tSIALANG\tfloat\n",
       "\tSIAPROXY\tfloat\n",
       "\tSIAINTRP\tfloat\n",
       "\tFIALANG\tfloat\n",
       "\tFIAPROXY\tfloat\n",
       "\tFIAINTRP\tfloat\n",
       "\tMIALANG\tfloat\n",
       "\tMIAPROXY\tfloat\n",
       "\tMIAINTRP\tfloat\n",
       "\tAIALANGA\tfloat\n",
       "\tWTINT2YR\tfloat\n",
       "\tWTMEC2YR\tfloat\n",
       "\tSDMVPSU\tfloat\n",
       "\tSDMVSTRA\tfloat\n",
       "\tINDHHIN2\tfloat\n",
       "\tINDFMIN2\tfloat\n",
       "\tINDFMPIR\tfloat\n",
       "\tDMDHHSIZ\tfloat\n",
       "\tDMDFMSIZ\tfloat\n",
       "\tDMDHHSZA\tfloat\n",
       "\tDMDHHSZB\tfloat\n",
       "\tDMDHHSZE\tfloat\n",
       "\tDMDHRGND\tfloat\n",
       "\tDMDHRAGE\tfloat\n",
       "\tDMDHRBR4\tfloat\n",
       "\tDMDHREDU\tfloat\n",
       "\tDMDHRMAR\tfloat\n",
       "\tDMDHSEDU\tfloat\n",
       "\tHIQ011\tfloat\n",
       "\n",
       "Rows: 9736\n",
       "\n",
       "Data:\n",
       "+----+----------+----------+----------+----------+----------+----------+----------+\n",
       "| X1 | RIDSTATR | RIAGENDR | RIDAGEYR | RIDAGEMN | RIDRETH1 | RIDRETH3 | RIDEXMON |\n",
       "+----+----------+----------+----------+----------+----------+----------+----------+\n",
       "| 0  |   2.0    |   1.0    |   22.0   |   0.0    |   3.0    |   3.0    |   2.0    |\n",
       "| 1  |   2.0    |   2.0    |   3.0    |   0.0    |   1.0    |   1.0    |   1.0    |\n",
       "| 2  |   2.0    |   1.0    |   14.0   |   0.0    |   5.0    |   6.0    |   2.0    |\n",
       "| 3  |   2.0    |   2.0    |   44.0   |   0.0    |   3.0    |   3.0    |   1.0    |\n",
       "| 4  |   2.0    |   2.0    |   14.0   |   0.0    |   4.0    |   4.0    |   2.0    |\n",
       "| 5  |   2.0    |   1.0    |   9.0    |   0.0    |   3.0    |   3.0    |   2.0    |\n",
       "| 6  |   2.0    |   1.0    |   0.0    |   11.0   |   5.0    |   6.0    |   1.0    |\n",
       "| 7  |   2.0    |   1.0    |   6.0    |   0.0    |   5.0    |   7.0    |   1.0    |\n",
       "| 8  |   2.0    |   1.0    |   21.0   |   0.0    |   5.0    |   6.0    |   1.0    |\n",
       "| 9  |   2.0    |   1.0    |   15.0   |   0.0    |   5.0    |   7.0    |   1.0    |\n",
       "+----+----------+----------+----------+----------+----------+----------+----------+\n",
       "+----------+----------+---------+----------+----------+----------+----------+\n",
       "| RIDEXAGM | DMQMILIZ | DMQADFC | DMDBORN4 | DMDCITZN | DMDYRSUS | DMDEDUC3 |\n",
       "+----------+----------+---------+----------+----------+----------+----------+\n",
       "|   0.0    |   2.0    |   0.0   |   1.0    |   1.0    |   0.0    |   0.0    |\n",
       "|   41.0   |   0.0    |   0.0   |   1.0    |   1.0    |   0.0    |   0.0    |\n",
       "|  177.0   |   0.0    |   0.0   |   1.0    |   1.0    |   0.0    |   8.0    |\n",
       "|   0.0    |   1.0    |   2.0   |   1.0    |   1.0    |   0.0    |   0.0    |\n",
       "|  179.0   |   0.0    |   0.0   |   1.0    |   1.0    |   0.0    |   7.0    |\n",
       "|  120.0   |   0.0    |   0.0   |   1.0    |   1.0    |   0.0    |   3.0    |\n",
       "|   12.0   |   0.0    |   0.0   |   1.0    |   1.0    |   0.0    |   0.0    |\n",
       "|   81.0   |   0.0    |   0.0   |   1.0    |   1.0    |   0.0    |   0.0    |\n",
       "|   0.0    |   2.0    |   0.0   |   1.0    |   1.0    |   0.0    |   0.0    |\n",
       "|  181.0   |   0.0    |   0.0   |   1.0    |   1.0    |   0.0    |   9.0    |\n",
       "+----------+----------+---------+----------+----------+----------+----------+\n",
       "+----------+----------+----------+---------+----------+-----+\n",
       "| DMDEDUC2 | DMDMARTL | RIDEXPRG | SIALANG | SIAPROXY | ... |\n",
       "+----------+----------+----------+---------+----------+-----+\n",
       "|   3.0    |   5.0    |   0.0    |   1.0   |   1.0    | ... |\n",
       "|   0.0    |   0.0    |   0.0    |   1.0   |   1.0    | ... |\n",
       "|   0.0    |   0.0    |   0.0    |   1.0   |   1.0    | ... |\n",
       "|   4.0    |   1.0    |   2.0    |   1.0   |   2.0    | ... |\n",
       "|   0.0    |   0.0    |   0.0    |   1.0   |   1.0    | ... |\n",
       "|   0.0    |   0.0    |   0.0    |   1.0   |   1.0    | ... |\n",
       "|   0.0    |   0.0    |   0.0    |   1.0   |   1.0    | ... |\n",
       "|   0.0    |   0.0    |   0.0    |   1.0   |   1.0    | ... |\n",
       "|   3.0    |   5.0    |   0.0    |   1.0   |   2.0    | ... |\n",
       "|   0.0    |   0.0    |   0.0    |   1.0   |   1.0    | ... |\n",
       "+----------+----------+----------+---------+----------+-----+\n",
       "[9736 rows x 47 columns]\n",
       "Note: Only the head of the SFrame is printed.\n",
       "You can use print_rows(num_rows=m, num_columns=n) to print more rows and columns.>"
      ]
     },
     "execution_count": 11,
     "metadata": {},
     "output_type": "execute_result"
    }
   ],
   "source": [
    "train.show"
   ]
  },
  {
   "cell_type": "code",
   "execution_count": 13,
   "metadata": {
    "collapsed": false
   },
   "outputs": [
    {
     "name": "stdout",
     "output_type": "stream",
     "text": [
      "+----+----------+----------+----------+----------+----------+----------+----------+\n",
      "| X1 | RIDSTATR | RIAGENDR | RIDAGEYR | RIDAGEMN | RIDRETH1 | RIDRETH3 | RIDEXMON |\n",
      "+----+----------+----------+----------+----------+----------+----------+----------+\n",
      "| 0  |   2.0    |   1.0    |   22.0   |   0.0    |   3.0    |   3.0    |   2.0    |\n",
      "| 1  |   2.0    |   2.0    |   3.0    |   0.0    |   1.0    |   1.0    |   1.0    |\n",
      "+----+----------+----------+----------+----------+----------+----------+----------+\n",
      "+----------+----------+---------+----------+----------+----------+----------+\n",
      "| RIDEXAGM | DMQMILIZ | DMQADFC | DMDBORN4 | DMDCITZN | DMDYRSUS | DMDEDUC3 |\n",
      "+----------+----------+---------+----------+----------+----------+----------+\n",
      "|   0.0    |   2.0    |   0.0   |   1.0    |   1.0    |   0.0    |   0.0    |\n",
      "|   41.0   |   0.0    |   0.0   |   1.0    |   1.0    |   0.0    |   0.0    |\n",
      "+----------+----------+---------+----------+----------+----------+----------+\n",
      "+----------+----------+----------+---------+----------+----------+---------+----------+\n",
      "| DMDEDUC2 | DMDMARTL | RIDEXPRG | SIALANG | SIAPROXY | SIAINTRP | FIALANG | FIAPROXY |\n",
      "+----------+----------+----------+---------+----------+----------+---------+----------+\n",
      "|   3.0    |   5.0    |   0.0    |   1.0   |   1.0    |   2.0    |   1.0   |   2.0    |\n",
      "|   0.0    |   0.0    |   0.0    |   1.0   |   1.0    |   2.0    |   1.0   |   2.0    |\n",
      "+----------+----------+----------+---------+----------+----------+---------+----------+\n",
      "+----------+---------+----------+----------+----------+---------------+\n",
      "| FIAINTRP | MIALANG | MIAPROXY | MIAINTRP | AIALANGA |    WTINT2YR   |\n",
      "+----------+---------+----------+----------+----------+---------------+\n",
      "|   2.0    |   1.0   |   2.0    |   2.0    |   1.0    | 102641.406474 |\n",
      "|   2.0    |   0.0   |   0.0    |   0.0    |   0.0    |  15457.736897 |\n",
      "+----------+---------+----------+----------+----------+---------------+\n",
      "+---------------+---------+----------+----------+----------+----------+----------+\n",
      "|    WTMEC2YR   | SDMVPSU | SDMVSTRA | INDHHIN2 | INDFMIN2 | INDFMPIR | DMDHHSIZ |\n",
      "+---------------+---------+----------+----------+----------+----------+----------+\n",
      "| 104236.582554 |   1.0   |   91.0   |   14.0   |   14.0   |   3.15   |   5.0    |\n",
      "|  16116.35401  |   3.0   |   92.0   |   4.0    |   4.0    |   0.6    |   6.0    |\n",
      "+---------------+---------+----------+----------+----------+----------+----------+\n",
      "+----------+----------+----------+----------+----------+----------+----------+\n",
      "| DMDFMSIZ | DMDHHSZA | DMDHHSZB | DMDHHSZE | DMDHRGND | DMDHRAGE | DMDHRBR4 |\n",
      "+----------+----------+----------+----------+----------+----------+----------+\n",
      "|   5.0    |   0.0    |   1.0    |   0.0    |   2.0    |   50.0   |   1.0    |\n",
      "|   6.0    |   2.0    |   2.0    |   0.0    |   2.0    |   24.0   |   1.0    |\n",
      "+----------+----------+----------+----------+----------+----------+----------+\n",
      "+----------+----------+----------+--------+\n",
      "| DMDHREDU | DMDHRMAR | DMDHSEDU | HIQ011 |\n",
      "+----------+----------+----------+--------+\n",
      "|   5.0    |   1.0    |   5.0    |  0.0   |\n",
      "|   3.0    |   6.0    |   0.0    |  0.0   |\n",
      "+----------+----------+----------+--------+\n",
      "[9736 rows x 47 columns]\n",
      "\n"
     ]
    }
   ],
   "source": [
    "train.print_rows(num_rows=2, num_columns=47)"
   ]
  },
  {
   "cell_type": "code",
   "execution_count": 22,
   "metadata": {
    "collapsed": false
   },
   "outputs": [
    {
     "name": "stderr",
     "output_type": "stream",
     "text": [
      "[ERROR] graphlab.toolkits._main: Toolkit error: Column type of target 'HIQ011' must be int or str.\n",
      "\n"
     ]
    },
    {
     "name": "stdout",
     "output_type": "stream",
     "text": [
      "PROGRESS: Creating a validation set from 5 percent of training data. This may take a while.\n",
      "          You can set ``validation_set=None`` to disable validation tracking.\n",
      "\n"
     ]
    },
    {
     "ename": "ToolkitError",
     "evalue": "Column type of target 'HIQ011' must be int or str.\n",
     "output_type": "error",
     "traceback": [
      "\u001b[0;31m---------------------------------------------------------------------------\u001b[0m",
      "\u001b[0;31mToolkitError\u001b[0m                              Traceback (most recent call last)",
      "\u001b[0;32m<ipython-input-22-d0ec3b10de4a>\u001b[0m in \u001b[0;36m<module>\u001b[0;34m()\u001b[0m\n\u001b[0;32m----> 1\u001b[0;31m \u001b[0mraw_model\u001b[0m \u001b[0;34m=\u001b[0m \u001b[0mgraphlab\u001b[0m\u001b[0;34m.\u001b[0m\u001b[0mlogistic_classifier\u001b[0m\u001b[0;34m.\u001b[0m\u001b[0mcreate\u001b[0m\u001b[0;34m(\u001b[0m\u001b[0mtrain\u001b[0m\u001b[0;34m,\u001b[0m\u001b[0mtarget\u001b[0m\u001b[0;34m=\u001b[0m\u001b[0;34m'HIQ011'\u001b[0m\u001b[0;34m)\u001b[0m\u001b[0;34m\u001b[0m\u001b[0m\n\u001b[0m",
      "\u001b[0;32m/Users/andguer/anaconda/envs/gl-env/lib/python2.7/site-packages/graphlab/toolkits/classifier/logistic_classifier.pyc\u001b[0m in \u001b[0;36mcreate\u001b[0;34m(dataset, target, features, l2_penalty, l1_penalty, solver, feature_rescaling, convergence_threshold, step_size, lbfgs_memory_level, max_iterations, class_weights, validation_set, verbose)\u001b[0m\n\u001b[1;32m    306\u001b[0m                         \u001b[0mlbfgs_memory_level\u001b[0m \u001b[0;34m=\u001b[0m \u001b[0mlbfgs_memory_level\u001b[0m\u001b[0;34m,\u001b[0m\u001b[0;34m\u001b[0m\u001b[0m\n\u001b[1;32m    307\u001b[0m                         \u001b[0mmax_iterations\u001b[0m \u001b[0;34m=\u001b[0m \u001b[0mmax_iterations\u001b[0m\u001b[0;34m,\u001b[0m\u001b[0;34m\u001b[0m\u001b[0m\n\u001b[0;32m--> 308\u001b[0;31m                         class_weights = class_weights)\n\u001b[0m\u001b[1;32m    309\u001b[0m \u001b[0;34m\u001b[0m\u001b[0m\n\u001b[1;32m    310\u001b[0m     \u001b[0;32mreturn\u001b[0m \u001b[0mLogisticClassifier\u001b[0m\u001b[0;34m(\u001b[0m\u001b[0mmodel\u001b[0m\u001b[0;34m.\u001b[0m\u001b[0m__proxy__\u001b[0m\u001b[0;34m)\u001b[0m\u001b[0;34m\u001b[0m\u001b[0m\n",
      "\u001b[0;32m/Users/andguer/anaconda/envs/gl-env/lib/python2.7/site-packages/graphlab/toolkits/_supervised_learning.pyc\u001b[0m in \u001b[0;36mcreate\u001b[0;34m(dataset, target, model_name, features, validation_set, verbose, distributed, **kwargs)\u001b[0m\n\u001b[1;32m    434\u001b[0m \u001b[0;34m\u001b[0m\u001b[0m\n\u001b[1;32m    435\u001b[0m     ret = _graphlab.toolkits._main.run(\"supervised_learning_train\",\n\u001b[0;32m--> 436\u001b[0;31m                                        options, verbose)\n\u001b[0m\u001b[1;32m    437\u001b[0m     \u001b[0mmodel\u001b[0m \u001b[0;34m=\u001b[0m \u001b[0mSupervisedLearningModel\u001b[0m\u001b[0;34m(\u001b[0m\u001b[0mret\u001b[0m\u001b[0;34m[\u001b[0m\u001b[0;34m'model'\u001b[0m\u001b[0;34m]\u001b[0m\u001b[0;34m,\u001b[0m \u001b[0mmodel_name\u001b[0m\u001b[0;34m)\u001b[0m\u001b[0;34m\u001b[0m\u001b[0m\n\u001b[1;32m    438\u001b[0m \u001b[0;34m\u001b[0m\u001b[0m\n",
      "\u001b[0;32m/Users/andguer/anaconda/envs/gl-env/lib/python2.7/site-packages/graphlab/toolkits/_main.pyc\u001b[0m in \u001b[0;36mrun\u001b[0;34m(toolkit_name, options, verbose, show_progress)\u001b[0m\n\u001b[1;32m     87\u001b[0m         \u001b[0m_get_metric_tracker\u001b[0m\u001b[0;34m(\u001b[0m\u001b[0;34m)\u001b[0m\u001b[0;34m.\u001b[0m\u001b[0mtrack\u001b[0m\u001b[0;34m(\u001b[0m\u001b[0mmetric_name\u001b[0m\u001b[0;34m,\u001b[0m \u001b[0mvalue\u001b[0m\u001b[0;34m=\u001b[0m\u001b[0;36m1\u001b[0m\u001b[0;34m,\u001b[0m \u001b[0mproperties\u001b[0m\u001b[0;34m=\u001b[0m\u001b[0mtrack_props\u001b[0m\u001b[0;34m,\u001b[0m \u001b[0msend_sys_info\u001b[0m\u001b[0;34m=\u001b[0m\u001b[0mFalse\u001b[0m\u001b[0;34m)\u001b[0m\u001b[0;34m\u001b[0m\u001b[0m\n\u001b[1;32m     88\u001b[0m \u001b[0;34m\u001b[0m\u001b[0m\n\u001b[0;32m---> 89\u001b[0;31m         \u001b[0;32mraise\u001b[0m \u001b[0mToolkitError\u001b[0m\u001b[0;34m(\u001b[0m\u001b[0mstr\u001b[0m\u001b[0;34m(\u001b[0m\u001b[0mmessage\u001b[0m\u001b[0;34m)\u001b[0m\u001b[0;34m)\u001b[0m\u001b[0;34m\u001b[0m\u001b[0m\n\u001b[0m",
      "\u001b[0;31mToolkitError\u001b[0m: Column type of target 'HIQ011' must be int or str.\n"
     ]
    }
   ],
   "source": [
    "raw_model = graphlab.logistic_classifier.create(train,target='HIQ011')"
   ]
  },
  {
   "cell_type": "code",
   "execution_count": null,
   "metadata": {
    "collapsed": false
   },
   "outputs": [],
   "source": []
  },
  {
   "cell_type": "code",
   "execution_count": null,
   "metadata": {
    "collapsed": true
   },
   "outputs": [],
   "source": []
  }
 ],
 "metadata": {
  "kernelspec": {
   "display_name": "Python 2",
   "language": "python",
   "name": "python2"
  },
  "language_info": {
   "codemirror_mode": {
    "name": "ipython",
    "version": 2
   },
   "file_extension": ".py",
   "mimetype": "text/x-python",
   "name": "python",
   "nbconvert_exporter": "python",
   "pygments_lexer": "ipython2",
   "version": "2.7.11"
  }
 },
 "nbformat": 4,
 "nbformat_minor": 0
}
