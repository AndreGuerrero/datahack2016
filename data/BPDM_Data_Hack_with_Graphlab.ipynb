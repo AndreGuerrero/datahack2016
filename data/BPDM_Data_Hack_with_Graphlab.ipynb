{
 "cells": [
  {
   "cell_type": "code",
   "execution_count": 35,
   "metadata": {
    "collapsed": true
   },
   "outputs": [],
   "source": [
    "import graphlab"
   ]
  },
  {
   "cell_type": "code",
   "execution_count": 64,
   "metadata": {
    "collapsed": false
   },
   "outputs": [
    {
     "data": {
      "text/html": [
       "<pre>Finished parsing file /Users/andguer/Documents/OneDrive/BPDM2016/datahack2016/data/train_KDD.csv</pre>"
      ],
      "text/plain": [
       "Finished parsing file /Users/andguer/Documents/OneDrive/BPDM2016/datahack2016/data/train_KDD.csv"
      ]
     },
     "metadata": {},
     "output_type": "display_data"
    },
    {
     "data": {
      "text/html": [
       "<pre>Parsing completed. Parsed 100 lines in 0.379284 secs.</pre>"
      ],
      "text/plain": [
       "Parsing completed. Parsed 100 lines in 0.379284 secs."
      ]
     },
     "metadata": {},
     "output_type": "display_data"
    },
    {
     "name": "stdout",
     "output_type": "stream",
     "text": [
      "------------------------------------------------------\n",
      "Inferred types from first 100 line(s) of file as \n",
      "column_type_hints=[int,int,int,int,int,float,float,float,float,float,float,int,int,int,int,int,int,int,int,int,int,int,int,int,float,int,int,int,int,int,float,float,float,int,int,int,int,int,float,float,int,int,int,float,float,int]\n",
      "If parsing fails due to incorrect types, you can correct\n",
      "the inferred type list above and pass it to read_csv in\n",
      "the column_type_hints argument\n",
      "------------------------------------------------------\n"
     ]
    },
    {
     "data": {
      "text/html": [
       "<pre>Finished parsing file /Users/andguer/Documents/OneDrive/BPDM2016/datahack2016/data/train_KDD.csv</pre>"
      ],
      "text/plain": [
       "Finished parsing file /Users/andguer/Documents/OneDrive/BPDM2016/datahack2016/data/train_KDD.csv"
      ]
     },
     "metadata": {},
     "output_type": "display_data"
    },
    {
     "data": {
      "text/html": [
       "<pre>Parsing completed. Parsed 9736 lines in 0.121129 secs.</pre>"
      ],
      "text/plain": [
       "Parsing completed. Parsed 9736 lines in 0.121129 secs."
      ]
     },
     "metadata": {},
     "output_type": "display_data"
    },
    {
     "data": {
      "text/html": [
       "<pre>Finished parsing file /Users/andguer/Documents/OneDrive/BPDM2016/datahack2016/data/test_kdd.csv</pre>"
      ],
      "text/plain": [
       "Finished parsing file /Users/andguer/Documents/OneDrive/BPDM2016/datahack2016/data/test_kdd.csv"
      ]
     },
     "metadata": {},
     "output_type": "display_data"
    },
    {
     "data": {
      "text/html": [
       "<pre>Parsing completed. Parsed 100 lines in 0.108009 secs.</pre>"
      ],
      "text/plain": [
       "Parsing completed. Parsed 100 lines in 0.108009 secs."
      ]
     },
     "metadata": {},
     "output_type": "display_data"
    },
    {
     "name": "stdout",
     "output_type": "stream",
     "text": [
      "------------------------------------------------------\n",
      "Inferred types from first 100 line(s) of file as \n",
      "column_type_hints=[int,int,int,int,int,float,float,float,float,float,float,int,int,int,int,int,int,int,int,int,int,int,int,int,float,int,int,int,int,int,float,float,float,int,int,int,int,int,float,float,int,int,int,float,float,int]\n",
      "If parsing fails due to incorrect types, you can correct\n",
      "the inferred type list above and pass it to read_csv in\n",
      "the column_type_hints argument\n",
      "------------------------------------------------------\n"
     ]
    },
    {
     "data": {
      "text/html": [
       "<pre>Finished parsing file /Users/andguer/Documents/OneDrive/BPDM2016/datahack2016/data/test_kdd.csv</pre>"
      ],
      "text/plain": [
       "Finished parsing file /Users/andguer/Documents/OneDrive/BPDM2016/datahack2016/data/test_kdd.csv"
      ]
     },
     "metadata": {},
     "output_type": "display_data"
    },
    {
     "data": {
      "text/html": [
       "<pre>Parsing completed. Parsed 10164 lines in 0.075048 secs.</pre>"
      ],
      "text/plain": [
       "Parsing completed. Parsed 10164 lines in 0.075048 secs."
      ]
     },
     "metadata": {},
     "output_type": "display_data"
    }
   ],
   "source": [
    "#train = graphlab.SFrame('train.csv')\n",
    "train = graphlab.SFrame('train_KDD.csv')\n",
    "#test = graphlab.SFrame('test_2013_14_DATA.csv')\n",
    "test = graphlab.SFrame('test_kdd.csv')"
   ]
  },
  {
   "cell_type": "code",
   "execution_count": 65,
   "metadata": {
    "collapsed": true
   },
   "outputs": [],
   "source": [
    "graphlab.canvas.set_target('ipynb')"
   ]
  },
  {
   "cell_type": "code",
   "execution_count": 66,
   "metadata": {
    "collapsed": false
   },
   "outputs": [
    {
     "data": {
      "text/plain": [
       "<bound method SFrame.show of Columns:\n",
       "\tAIALANGA\tint\n",
       "\tDMDBORN4\tint\n",
       "\tDMDCITZN\tint\n",
       "\tDMDEDUC2\tint\n",
       "\tDMDEDUC3\tint\n",
       "\tDMDFMSIZ\tfloat\n",
       "\tDMDHHSIZ\tfloat\n",
       "\tDMDHHSZA\tfloat\n",
       "\tDMDHHSZB\tfloat\n",
       "\tDMDHHSZE\tfloat\n",
       "\tDMDHRAGE\tfloat\n",
       "\tDMDHRBR4\tint\n",
       "\tDMDHREDU\tint\n",
       "\tDMDHRGND\tint\n",
       "\tDMDHRMAR\tint\n",
       "\tDMDHSEDU\tint\n",
       "\tDMDMARTL\tint\n",
       "\tDMDYRSUS\tint\n",
       "\tDMQADFC\tint\n",
       "\tDMQMILIZ\tint\n",
       "\tFIAINTRP\tint\n",
       "\tFIALANG\tint\n",
       "\tFIAPROXY\tint\n",
       "\tINDFMIN2\tint\n",
       "\tINDFMPIR\tfloat\n",
       "\tINDHHIN2\tint\n",
       "\tMIAINTRP\tint\n",
       "\tMIALANG\tint\n",
       "\tMIAPROXY\tint\n",
       "\tRIAGENDR\tint\n",
       "\tRIDAGEMN\tfloat\n",
       "\tRIDAGEYR\tfloat\n",
       "\tRIDEXAGM\tfloat\n",
       "\tRIDEXMON\tint\n",
       "\tRIDEXPRG\tint\n",
       "\tRIDRETH1\tint\n",
       "\tRIDRETH3\tint\n",
       "\tRIDSTATR\tint\n",
       "\tSDMVPSU\tfloat\n",
       "\tSDMVSTRA\tfloat\n",
       "\tSIAINTRP\tint\n",
       "\tSIALANG\tint\n",
       "\tSIAPROXY\tint\n",
       "\tWTINT2YR\tfloat\n",
       "\tWTMEC2YR\tfloat\n",
       "\tHIQ011\tint\n",
       "\n",
       "Rows: 9736\n",
       "\n",
       "Data:\n",
       "+----------+----------+----------+----------+----------+----------+----------+\n",
       "| AIALANGA | DMDBORN4 | DMDCITZN | DMDEDUC2 | DMDEDUC3 | DMDFMSIZ | DMDHHSIZ |\n",
       "+----------+----------+----------+----------+----------+----------+----------+\n",
       "|    1     |    1     |    1     |    3     |    0     | 0.666667 | 0.666667 |\n",
       "|    0     |    1     |    1     |    0     |    0     | 0.833333 | 0.833333 |\n",
       "|    1     |    1     |    1     |    0     |    8     | 0.666667 | 0.666667 |\n",
       "|    0     |    1     |    1     |    4     |    0     | 0.666667 | 0.666667 |\n",
       "|    1     |    1     |    1     |    0     |    7     | 0.666667 | 0.666667 |\n",
       "|    0     |    1     |    1     |    0     |    3     | 0.833333 | 0.833333 |\n",
       "|    0     |    1     |    1     |    0     |    0     |   0.5    |   1.0    |\n",
       "|    0     |    1     |    1     |    0     |    0     | 0.666667 | 0.666667 |\n",
       "|    1     |    1     |    1     |    3     |    0     | 0.666667 | 0.666667 |\n",
       "|    1     |    1     |    1     |    0     |    9     |   0.5    |   0.5    |\n",
       "+----------+----------+----------+----------+----------+----------+----------+\n",
       "+----------+----------+----------+----------+----------+----------+----------+\n",
       "| DMDHHSZA | DMDHHSZB | DMDHHSZE | DMDHRAGE | DMDHRBR4 | DMDHREDU | DMDHRGND |\n",
       "+----------+----------+----------+----------+----------+----------+----------+\n",
       "|   0.0    |   0.25   |   0.0    | 0.516129 |    1     |    5     |    2     |\n",
       "| 0.666667 |   0.5    |   0.0    | 0.096774 |    1     |    3     |    2     |\n",
       "|   0.0    |   0.5    | 0.333333 | 0.387097 |    1     |    5     |    1     |\n",
       "| 0.333333 |   0.5    |   0.0    | 0.548387 |    1     |    4     |    1     |\n",
       "| 0.333333 |   0.5    |   0.0    | 0.241935 |    2     |    2     |    2     |\n",
       "|   0.0    |   1.0    |   0.0    | 0.419355 |    1     |    5     |    1     |\n",
       "|   1.0    |   0.75   | 0.333333 | 0.693548 |    2     |    1     |    1     |\n",
       "|   0.0    |   0.5    | 0.333333 | 0.403226 |    1     |    4     |    1     |\n",
       "|   0.0    |   0.25   |   0.0    | 0.532258 |    2     |    1     |    1     |\n",
       "|   0.0    |   0.5    |   0.0    | 0.322581 |    2     |    5     |    1     |\n",
       "+----------+----------+----------+----------+----------+----------+----------+\n",
       "+----------+----------+----------+----------+---------+----------+-----+\n",
       "| DMDHRMAR | DMDHSEDU | DMDMARTL | DMDYRSUS | DMQADFC | DMQMILIZ | ... |\n",
       "+----------+----------+----------+----------+---------+----------+-----+\n",
       "|    1     |    5     |    5     |    0     |    0    |    2     | ... |\n",
       "|    6     |    0     |    0     |    0     |    0    |    0     | ... |\n",
       "|    1     |    4     |    0     |    0     |    0    |    0     | ... |\n",
       "|    1     |    4     |    1     |    0     |    2    |    1     | ... |\n",
       "|    77    |    0     |    0     |    0     |    0    |    0     | ... |\n",
       "|    1     |    5     |    0     |    0     |    0    |    0     | ... |\n",
       "|    1     |    3     |    0     |    0     |    0    |    0     | ... |\n",
       "|    1     |    5     |    0     |    0     |    0    |    0     | ... |\n",
       "|    4     |    0     |    5     |    0     |    0    |    2     | ... |\n",
       "|    1     |    5     |    0     |    0     |    0    |    0     | ... |\n",
       "+----------+----------+----------+----------+---------+----------+-----+\n",
       "[9736 rows x 46 columns]\n",
       "Note: Only the head of the SFrame is printed.\n",
       "You can use print_rows(num_rows=m, num_columns=n) to print more rows and columns.>"
      ]
     },
     "execution_count": 66,
     "metadata": {},
     "output_type": "execute_result"
    }
   ],
   "source": [
    "train.show"
   ]
  },
  {
   "cell_type": "code",
   "execution_count": 67,
   "metadata": {
    "collapsed": false
   },
   "outputs": [
    {
     "name": "stdout",
     "output_type": "stream",
     "text": [
      "+----------+----------+----------+----------+----------+----------+----------+\n",
      "| AIALANGA | DMDBORN4 | DMDCITZN | DMDEDUC2 | DMDEDUC3 | DMDFMSIZ | DMDHHSIZ |\n",
      "+----------+----------+----------+----------+----------+----------+----------+\n",
      "|    1     |    1     |    1     |    3     |    0     | 0.666667 | 0.666667 |\n",
      "|    0     |    1     |    1     |    0     |    0     | 0.833333 | 0.833333 |\n",
      "+----------+----------+----------+----------+----------+----------+----------+\n",
      "+----------+----------+----------+----------+----------+----------+----------+----------+\n",
      "| DMDHHSZA | DMDHHSZB | DMDHHSZE | DMDHRAGE | DMDHRBR4 | DMDHREDU | DMDHRGND | DMDHRMAR |\n",
      "+----------+----------+----------+----------+----------+----------+----------+----------+\n",
      "|   0.0    |   0.25   |   0.0    | 0.516129 |    1     |    5     |    2     |    1     |\n",
      "| 0.666667 |   0.5    |   0.0    | 0.096774 |    1     |    3     |    2     |    6     |\n",
      "+----------+----------+----------+----------+----------+----------+----------+----------+\n",
      "+----------+----------+----------+---------+----------+----------+---------+----------+\n",
      "| DMDHSEDU | DMDMARTL | DMDYRSUS | DMQADFC | DMQMILIZ | FIAINTRP | FIALANG | FIAPROXY |\n",
      "+----------+----------+----------+---------+----------+----------+---------+----------+\n",
      "|    5     |    5     |    0     |    0    |    2     |    2     |    1    |    2     |\n",
      "|    0     |    0     |    0     |    0    |    0     |    2     |    1    |    2     |\n",
      "+----------+----------+----------+---------+----------+----------+---------+----------+\n",
      "+----------+----------+----------+----------+---------+----------+----------+\n",
      "| INDFMIN2 | INDFMPIR | INDHHIN2 | MIAINTRP | MIALANG | MIAPROXY | RIAGENDR |\n",
      "+----------+----------+----------+----------+---------+----------+----------+\n",
      "|    14    |   0.63   |    14    |    2     |    1    |    2     |    1     |\n",
      "|    4     |   0.12   |    4     |    0     |    0    |    0     |    2     |\n",
      "+----------+----------+----------+----------+---------+----------+----------+\n",
      "+----------+----------+----------+----------+----------+----------+----------+----------+\n",
      "| RIDAGEMN | RIDAGEYR | RIDEXAGM | RIDEXMON | RIDEXPRG | RIDRETH1 | RIDRETH3 | RIDSTATR |\n",
      "+----------+----------+----------+----------+----------+----------+----------+----------+\n",
      "|   0.0    |  0.275   |   0.0    |    2     |    0     |    3     |    3     |    2     |\n",
      "|   0.0    |  0.0375  | 0.171548 |    1     |    0     |    1     |    1     |    2     |\n",
      "+----------+----------+----------+----------+----------+----------+----------+----------+\n",
      "+---------+----------+----------+---------+----------+----------+----------+--------+\n",
      "| SDMVPSU | SDMVSTRA | SIAINTRP | SIALANG | SIAPROXY | WTINT2YR | WTMEC2YR | HIQ011 |\n",
      "+---------+----------+----------+---------+----------+----------+----------+--------+\n",
      "|   0.0   | 0.035714 |    2     |    1    |    1     | 0.457883 | 0.468311 |   0    |\n",
      "|   1.0   | 0.071429 |    2     |    1    |    1     | 0.055953 | 0.072407 |   0    |\n",
      "+---------+----------+----------+---------+----------+----------+----------+--------+\n",
      "[9736 rows x 46 columns]\n",
      "\n"
     ]
    }
   ],
   "source": [
    "train.print_rows(num_rows=2, num_columns=47)"
   ]
  },
  {
   "cell_type": "code",
   "execution_count": 70,
   "metadata": {
    "collapsed": false
   },
   "outputs": [
    {
     "data": {
      "text/plain": [
       "<bound method SFrame.show of Columns:\n",
       "\tAIALANGA\tint\n",
       "\tDMDBORN4\tint\n",
       "\tDMDCITZN\tint\n",
       "\tDMDEDUC2\tint\n",
       "\tDMDEDUC3\tint\n",
       "\tDMDFMSIZ\tfloat\n",
       "\tDMDHHSIZ\tfloat\n",
       "\tDMDHHSZA\tfloat\n",
       "\tDMDHHSZB\tfloat\n",
       "\tDMDHHSZE\tfloat\n",
       "\tDMDHRAGE\tfloat\n",
       "\tDMDHRBR4\tint\n",
       "\tDMDHREDU\tint\n",
       "\tDMDHRGND\tint\n",
       "\tDMDHRMAR\tint\n",
       "\tDMDHSEDU\tint\n",
       "\tDMDMARTL\tint\n",
       "\tDMDYRSUS\tint\n",
       "\tDMQADFC\tint\n",
       "\tDMQMILIZ\tint\n",
       "\tFIAINTRP\tint\n",
       "\tFIALANG\tint\n",
       "\tFIAPROXY\tint\n",
       "\tINDFMIN2\tint\n",
       "\tINDFMPIR\tfloat\n",
       "\tINDHHIN2\tint\n",
       "\tMIAINTRP\tint\n",
       "\tMIALANG\tint\n",
       "\tMIAPROXY\tint\n",
       "\tRIAGENDR\tint\n",
       "\tRIDAGEMN\tfloat\n",
       "\tRIDAGEYR\tfloat\n",
       "\tRIDEXAGM\tfloat\n",
       "\tRIDEXMON\tint\n",
       "\tRIDEXPRG\tint\n",
       "\tRIDRETH1\tint\n",
       "\tRIDRETH3\tint\n",
       "\tRIDSTATR\tint\n",
       "\tSDMVPSU\tfloat\n",
       "\tSDMVSTRA\tfloat\n",
       "\tSIAINTRP\tint\n",
       "\tSIALANG\tint\n",
       "\tSIAPROXY\tint\n",
       "\tWTINT2YR\tfloat\n",
       "\tWTMEC2YR\tfloat\n",
       "\tHIQ011\tint\n",
       "\n",
       "Rows: 9736\n",
       "\n",
       "Data:\n",
       "+----------+----------+----------+----------+----------+----------+----------+\n",
       "| AIALANGA | DMDBORN4 | DMDCITZN | DMDEDUC2 | DMDEDUC3 | DMDFMSIZ | DMDHHSIZ |\n",
       "+----------+----------+----------+----------+----------+----------+----------+\n",
       "|    1     |    1     |    1     |    3     |    0     | 0.666667 | 0.666667 |\n",
       "|    0     |    1     |    1     |    0     |    0     | 0.833333 | 0.833333 |\n",
       "|    1     |    1     |    1     |    0     |    8     | 0.666667 | 0.666667 |\n",
       "|    0     |    1     |    1     |    4     |    0     | 0.666667 | 0.666667 |\n",
       "|    1     |    1     |    1     |    0     |    7     | 0.666667 | 0.666667 |\n",
       "|    0     |    1     |    1     |    0     |    3     | 0.833333 | 0.833333 |\n",
       "|    0     |    1     |    1     |    0     |    0     |   0.5    |   1.0    |\n",
       "|    0     |    1     |    1     |    0     |    0     | 0.666667 | 0.666667 |\n",
       "|    1     |    1     |    1     |    3     |    0     | 0.666667 | 0.666667 |\n",
       "|    1     |    1     |    1     |    0     |    9     |   0.5    |   0.5    |\n",
       "+----------+----------+----------+----------+----------+----------+----------+\n",
       "+----------+----------+----------+----------+----------+----------+----------+\n",
       "| DMDHHSZA | DMDHHSZB | DMDHHSZE | DMDHRAGE | DMDHRBR4 | DMDHREDU | DMDHRGND |\n",
       "+----------+----------+----------+----------+----------+----------+----------+\n",
       "|   0.0    |   0.25   |   0.0    | 0.516129 |    1     |    5     |    2     |\n",
       "| 0.666667 |   0.5    |   0.0    | 0.096774 |    1     |    3     |    2     |\n",
       "|   0.0    |   0.5    | 0.333333 | 0.387097 |    1     |    5     |    1     |\n",
       "| 0.333333 |   0.5    |   0.0    | 0.548387 |    1     |    4     |    1     |\n",
       "| 0.333333 |   0.5    |   0.0    | 0.241935 |    2     |    2     |    2     |\n",
       "|   0.0    |   1.0    |   0.0    | 0.419355 |    1     |    5     |    1     |\n",
       "|   1.0    |   0.75   | 0.333333 | 0.693548 |    2     |    1     |    1     |\n",
       "|   0.0    |   0.5    | 0.333333 | 0.403226 |    1     |    4     |    1     |\n",
       "|   0.0    |   0.25   |   0.0    | 0.532258 |    2     |    1     |    1     |\n",
       "|   0.0    |   0.5    |   0.0    | 0.322581 |    2     |    5     |    1     |\n",
       "+----------+----------+----------+----------+----------+----------+----------+\n",
       "+----------+----------+----------+----------+---------+----------+-----+\n",
       "| DMDHRMAR | DMDHSEDU | DMDMARTL | DMDYRSUS | DMQADFC | DMQMILIZ | ... |\n",
       "+----------+----------+----------+----------+---------+----------+-----+\n",
       "|    1     |    5     |    5     |    0     |    0    |    2     | ... |\n",
       "|    6     |    0     |    0     |    0     |    0    |    0     | ... |\n",
       "|    1     |    4     |    0     |    0     |    0    |    0     | ... |\n",
       "|    1     |    4     |    1     |    0     |    2    |    1     | ... |\n",
       "|    77    |    0     |    0     |    0     |    0    |    0     | ... |\n",
       "|    1     |    5     |    0     |    0     |    0    |    0     | ... |\n",
       "|    1     |    3     |    0     |    0     |    0    |    0     | ... |\n",
       "|    1     |    5     |    0     |    0     |    0    |    0     | ... |\n",
       "|    4     |    0     |    5     |    0     |    0    |    2     | ... |\n",
       "|    1     |    5     |    0     |    0     |    0    |    0     | ... |\n",
       "+----------+----------+----------+----------+---------+----------+-----+\n",
       "[9736 rows x 46 columns]\n",
       "Note: Only the head of the SFrame is printed.\n",
       "You can use print_rows(num_rows=m, num_columns=n) to print more rows and columns.>"
      ]
     },
     "execution_count": 70,
     "metadata": {},
     "output_type": "execute_result"
    }
   ],
   "source": [
    "train['HIQ011'] = train['HIQ011'].astype(int)\n",
    "\n",
    "#train.remove_column('X1')\n",
    "\n",
    "train.show"
   ]
  },
  {
   "cell_type": "code",
   "execution_count": 71,
   "metadata": {
    "collapsed": false
   },
   "outputs": [
    {
     "name": "stdout",
     "output_type": "stream",
     "text": [
      "PROGRESS: Creating a validation set from 5 percent of training data. This may take a while.\n",
      "          You can set ``validation_set=None`` to disable validation tracking.\n",
      "\n"
     ]
    },
    {
     "data": {
      "text/html": [
       "<pre>Logistic regression:</pre>"
      ],
      "text/plain": [
       "Logistic regression:"
      ]
     },
     "metadata": {},
     "output_type": "display_data"
    },
    {
     "data": {
      "text/html": [
       "<pre>--------------------------------------------------------</pre>"
      ],
      "text/plain": [
       "--------------------------------------------------------"
      ]
     },
     "metadata": {},
     "output_type": "display_data"
    },
    {
     "data": {
      "text/html": [
       "<pre>Number of examples          : 9215</pre>"
      ],
      "text/plain": [
       "Number of examples          : 9215"
      ]
     },
     "metadata": {},
     "output_type": "display_data"
    },
    {
     "data": {
      "text/html": [
       "<pre>Number of classes           : 2</pre>"
      ],
      "text/plain": [
       "Number of classes           : 2"
      ]
     },
     "metadata": {},
     "output_type": "display_data"
    },
    {
     "data": {
      "text/html": [
       "<pre>Number of feature columns   : 45</pre>"
      ],
      "text/plain": [
       "Number of feature columns   : 45"
      ]
     },
     "metadata": {},
     "output_type": "display_data"
    },
    {
     "data": {
      "text/html": [
       "<pre>Number of unpacked features : 45</pre>"
      ],
      "text/plain": [
       "Number of unpacked features : 45"
      ]
     },
     "metadata": {},
     "output_type": "display_data"
    },
    {
     "data": {
      "text/html": [
       "<pre>Number of coefficients    : 46</pre>"
      ],
      "text/plain": [
       "Number of coefficients    : 46"
      ]
     },
     "metadata": {},
     "output_type": "display_data"
    },
    {
     "data": {
      "text/html": [
       "<pre>Starting Newton Method</pre>"
      ],
      "text/plain": [
       "Starting Newton Method"
      ]
     },
     "metadata": {},
     "output_type": "display_data"
    },
    {
     "data": {
      "text/html": [
       "<pre>--------------------------------------------------------</pre>"
      ],
      "text/plain": [
       "--------------------------------------------------------"
      ]
     },
     "metadata": {},
     "output_type": "display_data"
    },
    {
     "data": {
      "text/html": [
       "<pre>+-----------+----------+--------------+-------------------+---------------------+</pre>"
      ],
      "text/plain": [
       "+-----------+----------+--------------+-------------------+---------------------+"
      ]
     },
     "metadata": {},
     "output_type": "display_data"
    },
    {
     "data": {
      "text/html": [
       "<pre>| Iteration | Passes   | Elapsed Time | Training-accuracy | Validation-accuracy |</pre>"
      ],
      "text/plain": [
       "| Iteration | Passes   | Elapsed Time | Training-accuracy | Validation-accuracy |"
      ]
     },
     "metadata": {},
     "output_type": "display_data"
    },
    {
     "data": {
      "text/html": [
       "<pre>+-----------+----------+--------------+-------------------+---------------------+</pre>"
      ],
      "text/plain": [
       "+-----------+----------+--------------+-------------------+---------------------+"
      ]
     },
     "metadata": {},
     "output_type": "display_data"
    },
    {
     "data": {
      "text/html": [
       "<pre>| 1         | 2        | 0.105389     | 0.842539          | 0.829175            |</pre>"
      ],
      "text/plain": [
       "| 1         | 2        | 0.105389     | 0.842539          | 0.829175            |"
      ]
     },
     "metadata": {},
     "output_type": "display_data"
    },
    {
     "data": {
      "text/html": [
       "<pre>| 2         | 3        | 0.168394     | 0.843842          | 0.829175            |</pre>"
      ],
      "text/plain": [
       "| 2         | 3        | 0.168394     | 0.843842          | 0.829175            |"
      ]
     },
     "metadata": {},
     "output_type": "display_data"
    },
    {
     "data": {
      "text/html": [
       "<pre>| 3         | 4        | 0.253504     | 0.843407          | 0.836852            |</pre>"
      ],
      "text/plain": [
       "| 3         | 4        | 0.253504     | 0.843407          | 0.836852            |"
      ]
     },
     "metadata": {},
     "output_type": "display_data"
    },
    {
     "data": {
      "text/html": [
       "<pre>| 4         | 5        | 0.349178     | 0.843299          | 0.836852            |</pre>"
      ],
      "text/plain": [
       "| 4         | 5        | 0.349178     | 0.843299          | 0.836852            |"
      ]
     },
     "metadata": {},
     "output_type": "display_data"
    },
    {
     "data": {
      "text/html": [
       "<pre>| 5         | 6        | 0.445042     | 0.843299          | 0.836852            |</pre>"
      ],
      "text/plain": [
       "| 5         | 6        | 0.445042     | 0.843299          | 0.836852            |"
      ]
     },
     "metadata": {},
     "output_type": "display_data"
    },
    {
     "data": {
      "text/html": [
       "<pre>+-----------+----------+--------------+-------------------+---------------------+</pre>"
      ],
      "text/plain": [
       "+-----------+----------+--------------+-------------------+---------------------+"
      ]
     },
     "metadata": {},
     "output_type": "display_data"
    },
    {
     "data": {
      "text/html": [
       "<pre>SUCCESS: Optimal solution found.</pre>"
      ],
      "text/plain": [
       "SUCCESS: Optimal solution found."
      ]
     },
     "metadata": {},
     "output_type": "display_data"
    },
    {
     "data": {
      "text/html": [
       "<pre></pre>"
      ],
      "text/plain": []
     },
     "metadata": {},
     "output_type": "display_data"
    }
   ],
   "source": [
    "raw_model = graphlab.logistic_classifier.create(train,target='HIQ011',solver='auto')"
   ]
  },
  {
   "cell_type": "code",
   "execution_count": 72,
   "metadata": {
    "collapsed": false
   },
   "outputs": [
    {
     "data": {
      "text/plain": [
       "<bound method SFrame.show of Columns:\n",
       "\tAIALANGA\tint\n",
       "\tDMDBORN4\tint\n",
       "\tDMDCITZN\tint\n",
       "\tDMDEDUC2\tint\n",
       "\tDMDEDUC3\tint\n",
       "\tDMDFMSIZ\tfloat\n",
       "\tDMDHHSIZ\tfloat\n",
       "\tDMDHHSZA\tfloat\n",
       "\tDMDHHSZB\tfloat\n",
       "\tDMDHHSZE\tfloat\n",
       "\tDMDHRAGE\tfloat\n",
       "\tDMDHRBR4\tint\n",
       "\tDMDHREDU\tint\n",
       "\tDMDHRGND\tint\n",
       "\tDMDHRMAR\tint\n",
       "\tDMDHSEDU\tint\n",
       "\tDMDMARTL\tint\n",
       "\tDMDYRSUS\tint\n",
       "\tDMQADFC\tint\n",
       "\tDMQMILIZ\tint\n",
       "\tFIAINTRP\tint\n",
       "\tFIALANG\tint\n",
       "\tFIAPROXY\tint\n",
       "\tINDFMIN2\tint\n",
       "\tINDFMPIR\tfloat\n",
       "\tINDHHIN2\tint\n",
       "\tMIAINTRP\tint\n",
       "\tMIALANG\tint\n",
       "\tMIAPROXY\tint\n",
       "\tRIAGENDR\tint\n",
       "\tRIDAGEMN\tfloat\n",
       "\tRIDAGEYR\tfloat\n",
       "\tRIDEXAGM\tfloat\n",
       "\tRIDEXMON\tint\n",
       "\tRIDEXPRG\tint\n",
       "\tRIDRETH1\tint\n",
       "\tRIDRETH3\tint\n",
       "\tRIDSTATR\tint\n",
       "\tSDMVPSU\tfloat\n",
       "\tSDMVSTRA\tfloat\n",
       "\tSIAINTRP\tint\n",
       "\tSIALANG\tint\n",
       "\tSIAPROXY\tint\n",
       "\tWTINT2YR\tfloat\n",
       "\tWTMEC2YR\tfloat\n",
       "\tHIQ011\tint\n",
       "\n",
       "Rows: 10164\n",
       "\n",
       "Data:\n",
       "+----------+----------+----------+----------+----------+----------+----------+\n",
       "| AIALANGA | DMDBORN4 | DMDCITZN | DMDEDUC2 | DMDEDUC3 | DMDFMSIZ | DMDHHSIZ |\n",
       "+----------+----------+----------+----------+----------+----------+----------+\n",
       "|    1     |    1     |    1     |    3     |    0     | 0.333333 | 0.333333 |\n",
       "|    1     |    1     |    1     |    3     |    0     |   0.5    |   0.5    |\n",
       "|    0     |    1     |    1     |    4     |    0     | 0.166667 | 0.166667 |\n",
       "|    1     |    1     |    1     |    0     |    3     |   0.5    |   0.5    |\n",
       "|    0     |    1     |    1     |    5     |    0     | 0.166667 | 0.166667 |\n",
       "|    1     |    1     |    1     |    4     |    0     |   0.0    |   0.0    |\n",
       "|    0     |    1     |    1     |    0     |    0     | 0.333333 | 0.333333 |\n",
       "|    1     |    1     |    1     |    5     |    0     |   0.0    |   0.0    |\n",
       "|    0     |    1     |    1     |    3     |    0     |   0.5    |   0.5    |\n",
       "|    1     |    1     |    1     |    3     |    0     |   1.0    |   1.0    |\n",
       "+----------+----------+----------+----------+----------+----------+----------+\n",
       "+----------+----------+----------+----------+----------+----------+----------+----------+\n",
       "| DMDHHSZA | DMDHHSZB | DMDHHSZE | DMDHRAGE | DMDHRBR4 | DMDHREDU | DMDHRGND | DMDHRMAR |\n",
       "+----------+----------+----------+----------+----------+----------+----------+----------+\n",
       "|   0.0    |   0.0    | 0.666667 | 0.822581 |    1     |    3     |    1     |    4     |\n",
       "|   0.0    |   0.5    |   0.0    | 0.580645 |    1     |    3     |    1     |    1     |\n",
       "|   0.0    |   0.0    | 0.666667 | 0.870968 |    1     |    4     |    1     |    1     |\n",
       "|   0.0    |   0.5    |   0.0    | 0.241935 |    1     |    3     |    1     |    1     |\n",
       "|   0.0    |   0.0    | 0.666667 | 0.967742 |    1     |    5     |    1     |    1     |\n",
       "|   0.0    |   0.0    |   0.0    | 0.612903 |    1     |    4     |    1     |    3     |\n",
       "| 0.333333 |   0.0    |   0.0    | 0.209677 |    1     |    5     |    1     |    1     |\n",
       "|   0.0    |   0.0    | 0.333333 | 0.693548 |    1     |    5     |    2     |    2     |\n",
       "| 0.333333 |   0.25   |   0.0    | 0.387097 |    1     |    3     |    1     |    1     |\n",
       "|   1.0    |   0.0    |   0.0    | 0.612903 |    1     |    3     |    2     |    3     |\n",
       "+----------+----------+----------+----------+----------+----------+----------+----------+\n",
       "+----------+----------+----------+---------+----------+-----+\n",
       "| DMDHSEDU | DMDMARTL | DMDYRSUS | DMQADFC | DMQMILIZ | ... |\n",
       "+----------+----------+----------+---------+----------+-----+\n",
       "|    0     |    4     |    0     |    1    |    1     | ... |\n",
       "|    1     |    1     |    0     |    0    |    2     | ... |\n",
       "|    3     |    1     |    0     |    1    |    1     | ... |\n",
       "|    4     |    0     |    0     |    0    |    0     | ... |\n",
       "|    5     |    1     |    0     |    0    |    2     | ... |\n",
       "|    0     |    3     |    0     |    2    |    1     | ... |\n",
       "|    5     |    0     |    0     |    0    |    0     | ... |\n",
       "|    0     |    2     |    0     |    0    |    2     | ... |\n",
       "|    5     |    1     |    0     |    0    |    2     | ... |\n",
       "|    0     |    3     |    0     |    0    |    2     | ... |\n",
       "+----------+----------+----------+---------+----------+-----+\n",
       "[10164 rows x 46 columns]\n",
       "Note: Only the head of the SFrame is printed.\n",
       "You can use print_rows(num_rows=m, num_columns=n) to print more rows and columns.>"
      ]
     },
     "execution_count": 72,
     "metadata": {},
     "output_type": "execute_result"
    }
   ],
   "source": [
    "#test.remove_column('X1')\n",
    "test.show"
   ]
  },
  {
   "cell_type": "code",
   "execution_count": 73,
   "metadata": {
    "collapsed": false
   },
   "outputs": [
    {
     "data": {
      "text/plain": [
       "dtype: int\n",
       "Rows: 3\n",
       "[0, 1, 0]"
      ]
     },
     "execution_count": 73,
     "metadata": {},
     "output_type": "execute_result"
    }
   ],
   "source": [
    "test[0:3]['HIQ011']"
   ]
  },
  {
   "cell_type": "code",
   "execution_count": 74,
   "metadata": {
    "collapsed": false
   },
   "outputs": [
    {
     "data": {
      "text/plain": [
       "{'accuracy': 0.8514364423455333,\n",
       " 'auc': 0.8015527423220744,\n",
       " 'confusion_matrix': Columns:\n",
       " \ttarget_label\tint\n",
       " \tpredicted_label\tint\n",
       " \tcount\tint\n",
       " \n",
       " Rows: 4\n",
       " \n",
       " Data:\n",
       " +--------------+-----------------+-------+\n",
       " | target_label | predicted_label | count |\n",
       " +--------------+-----------------+-------+\n",
       " |      0       |        1        |  416  |\n",
       " |      0       |        0        |  8178 |\n",
       " |      1       |        1        |  476  |\n",
       " |      1       |        0        |  1094 |\n",
       " +--------------+-----------------+-------+\n",
       " [4 rows x 3 columns],\n",
       " 'f1_score': 0.38667749796913076,\n",
       " 'log_loss': 0.3615366384517862,\n",
       " 'precision': 0.5336322869955157,\n",
       " 'recall': 0.30318471337579617,\n",
       " 'roc_curve': Columns:\n",
       " \tthreshold\tfloat\n",
       " \tfpr\tfloat\n",
       " \ttpr\tfloat\n",
       " \tp\tint\n",
       " \tn\tint\n",
       " \n",
       " Rows: 100001\n",
       " \n",
       " Data:\n",
       " +-----------+-----+-----+------+------+\n",
       " | threshold | fpr | tpr |  p   |  n   |\n",
       " +-----------+-----+-----+------+------+\n",
       " |    0.0    | 1.0 | 1.0 | 1570 | 8594 |\n",
       " |   1e-05   | 1.0 | 1.0 | 1570 | 8594 |\n",
       " |   2e-05   | 1.0 | 1.0 | 1570 | 8594 |\n",
       " |   3e-05   | 1.0 | 1.0 | 1570 | 8594 |\n",
       " |   4e-05   | 1.0 | 1.0 | 1570 | 8594 |\n",
       " |   5e-05   | 1.0 | 1.0 | 1570 | 8594 |\n",
       " |   6e-05   | 1.0 | 1.0 | 1570 | 8594 |\n",
       " |   7e-05   | 1.0 | 1.0 | 1570 | 8594 |\n",
       " |   8e-05   | 1.0 | 1.0 | 1570 | 8594 |\n",
       " |   9e-05   | 1.0 | 1.0 | 1570 | 8594 |\n",
       " +-----------+-----+-----+------+------+\n",
       " [100001 rows x 5 columns]\n",
       " Note: Only the head of the SFrame is printed.\n",
       " You can use print_rows(num_rows=m, num_columns=n) to print more rows and columns.}"
      ]
     },
     "execution_count": 74,
     "metadata": {},
     "output_type": "execute_result"
    }
   ],
   "source": [
    "raw_model.evaluate(test)"
   ]
  },
  {
   "cell_type": "code",
   "execution_count": null,
   "metadata": {
    "collapsed": true
   },
   "outputs": [],
   "source": []
  },
  {
   "cell_type": "code",
   "execution_count": null,
   "metadata": {
    "collapsed": true
   },
   "outputs": [],
   "source": []
  }
 ],
 "metadata": {
  "kernelspec": {
   "display_name": "Python 2",
   "language": "python",
   "name": "python2"
  },
  "language_info": {
   "codemirror_mode": {
    "name": "ipython",
    "version": 2
   },
   "file_extension": ".py",
   "mimetype": "text/x-python",
   "name": "python",
   "nbconvert_exporter": "python",
   "pygments_lexer": "ipython2",
   "version": "2.7.11"
  }
 },
 "nbformat": 4,
 "nbformat_minor": 0
}
